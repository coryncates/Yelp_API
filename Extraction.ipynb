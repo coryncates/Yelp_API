{
 "cells": [
  {
   "cell_type": "code",
   "execution_count": 3,
   "id": "8a2ee79d",
   "metadata": {
    "ExecuteTime": {
     "end_time": "2023-09-06T23:35:23.545875Z",
     "start_time": "2023-09-06T23:35:23.530123Z"
    }
   },
   "outputs": [
    {
     "data": {
      "text/plain": [
       "dict_keys(['client-id', 'api-key'])"
      ]
     },
     "execution_count": 3,
     "metadata": {},
     "output_type": "execute_result"
    }
   ],
   "source": [
    "import json\n",
    "with open('/Users/corycates/.secret/yelp_api.json') as f: #change the path to match YOUR path!!\n",
    "    login = json.load(f)\n",
    "login.keys()\n",
    "\n"
   ]
  },
  {
   "cell_type": "code",
   "execution_count": 5,
   "id": "7695dbe0",
   "metadata": {
    "ExecuteTime": {
     "end_time": "2023-09-06T23:37:36.923123Z",
     "start_time": "2023-09-06T23:37:35.048404Z"
    }
   },
   "outputs": [
    {
     "name": "stdout",
     "output_type": "stream",
     "text": [
      "Collecting yelpapi\n",
      "  Downloading yelpapi-2.5.0-py3-none-any.whl (7.4 kB)\n",
      "Requirement already satisfied: requests in /usr/local/Caskroom/miniforge/base/envs/dojo-env/lib/python3.9/site-packages (from yelpapi) (2.31.0)\n",
      "Requirement already satisfied: charset-normalizer<4,>=2 in /usr/local/Caskroom/miniforge/base/envs/dojo-env/lib/python3.9/site-packages (from requests->yelpapi) (2.0.4)\n",
      "Requirement already satisfied: certifi>=2017.4.17 in /usr/local/Caskroom/miniforge/base/envs/dojo-env/lib/python3.9/site-packages (from requests->yelpapi) (2023.7.22)\n",
      "Requirement already satisfied: idna<4,>=2.5 in /usr/local/Caskroom/miniforge/base/envs/dojo-env/lib/python3.9/site-packages (from requests->yelpapi) (3.4)\n",
      "Requirement already satisfied: urllib3<3,>=1.21.1 in /usr/local/Caskroom/miniforge/base/envs/dojo-env/lib/python3.9/site-packages (from requests->yelpapi) (1.26.13)\n",
      "Installing collected packages: yelpapi\n",
      "Successfully installed yelpapi-2.5.0\n",
      "Note: you may need to restart the kernel to use updated packages.\n"
     ]
    }
   ],
   "source": [
    "pip install yelpapi\n"
   ]
  },
  {
   "cell_type": "code",
   "execution_count": 6,
   "id": "d681294d",
   "metadata": {
    "ExecuteTime": {
     "end_time": "2023-09-06T23:37:43.926518Z",
     "start_time": "2023-09-06T23:37:43.869613Z"
    }
   },
   "outputs": [],
   "source": [
    "# Standard Imports\n",
    "import numpy as np\n",
    "import pandas as pd\n",
    "import matplotlib.pyplot as plt\n",
    "import seaborn as sns\n",
    "# Additional Imports\n",
    "import os, json, math, time\n",
    "from yelpapi import YelpAPI\n",
    "from tqdm.notebook import tqdm_notebook\n",
    "\n"
   ]
  },
  {
   "cell_type": "code",
   "execution_count": 13,
   "id": "521ef0f1",
   "metadata": {
    "ExecuteTime": {
     "end_time": "2023-09-06T23:45:45.261498Z",
     "start_time": "2023-09-06T23:45:45.255397Z"
    }
   },
   "outputs": [],
   "source": [
    "# Load API Credentials\n",
    "with open('/Users/corycates/.secret/yelp_api.json') as f:   #use your path here!\n",
    "    login = json.load(f)\n",
    "# Instantiate YelpAPI Variable\n",
    "yelp_api = YelpAPI(login['api-key'], timeout_s=5.0)\n",
    "\n"
   ]
  },
  {
   "cell_type": "code",
   "execution_count": 8,
   "id": "ef849944",
   "metadata": {
    "ExecuteTime": {
     "end_time": "2023-09-06T23:40:52.661882Z",
     "start_time": "2023-09-06T23:40:52.654138Z"
    }
   },
   "outputs": [],
   "source": [
    "# set our API call parameters \n",
    "LOCATION = 'Las Vegas, Nevada'\n",
    "TERM = 'Sushi'\n"
   ]
  },
  {
   "cell_type": "code",
   "execution_count": 9,
   "id": "cbf79e4d",
   "metadata": {
    "ExecuteTime": {
     "end_time": "2023-09-06T23:41:19.065307Z",
     "start_time": "2023-09-06T23:41:19.058663Z"
    }
   },
   "outputs": [
    {
     "data": {
      "text/plain": [
       "'Data/results_in_progress_LAS_sushi.json'"
      ]
     },
     "execution_count": 9,
     "metadata": {},
     "output_type": "execute_result"
    }
   ],
   "source": [
    "# Specifying JSON_FILE filename (can include a folder)\n",
    "# include the search terms in the filename\n",
    "JSON_FILE = \"Data/results_in_progress_LAS_sushi.json\"\n",
    "JSON_FILE\n",
    "\n"
   ]
  },
  {
   "cell_type": "code",
   "execution_count": 10,
   "id": "6e082913",
   "metadata": {
    "ExecuteTime": {
     "end_time": "2023-09-06T23:42:38.453617Z",
     "start_time": "2023-09-06T23:42:38.443381Z"
    }
   },
   "outputs": [
    {
     "name": "stdout",
     "output_type": "stream",
     "text": [
      "[i] Data/results_in_progress_LAS_sushi.json not found. Saving empty list to file.\n"
     ]
    }
   ],
   "source": [
    "## Check if JSON_FILE exists\n",
    "file_exists = os.path.isfile(JSON_FILE)\n",
    "## If it does not exist: \n",
    "if file_exists == False:\n",
    "    \n",
    "    ## CREATE ANY NEEDED FOLDERS\n",
    "    # Get the Folder Name only\n",
    "    folder = os.path.dirname(JSON_FILE)\n",
    "    ## If JSON_FILE included a folder:\n",
    "    if len(folder)>0:\n",
    "        # create the folder\n",
    "        os.makedirs(folder,exist_ok=True)\n",
    "        \n",
    "        \n",
    "    ## INFORM USER AND SAVE EMPTY LIST\n",
    "    print(f'[i] {JSON_FILE} not found. Saving empty list to file.')\n",
    "    \n",
    "    \n",
    "    # save an empty list\n",
    "    with open(JSON_FILE,'w') as f:\n",
    "        json.dump([],f)  \n",
    "# If it exists, inform user\n",
    "else:\n",
    "    print(f\"[i] {JSON_FILE} already exists.\")\n"
   ]
  },
  {
   "cell_type": "code",
   "execution_count": 11,
   "id": "41487ca0",
   "metadata": {
    "ExecuteTime": {
     "end_time": "2023-09-06T23:44:11.422371Z",
     "start_time": "2023-09-06T23:44:11.404327Z"
    }
   },
   "outputs": [
    {
     "name": "stdout",
     "output_type": "stream",
     "text": [
      "- 0 previous results found.\n"
     ]
    }
   ],
   "source": [
    "## Load previous results and use len of results for offset\n",
    "with open(JSON_FILE,'r') as f:\n",
    "    previous_results = json.load(f)\n",
    "    \n",
    "## set offset based on previous results\n",
    "n_results = len(previous_results)\n",
    "print(f'- {n_results} previous results found.')\n",
    "\n"
   ]
  },
  {
   "cell_type": "code",
   "execution_count": 14,
   "id": "8107d865",
   "metadata": {
    "ExecuteTime": {
     "end_time": "2023-09-06T23:45:58.333170Z",
     "start_time": "2023-09-06T23:45:57.514593Z"
    }
   },
   "outputs": [
    {
     "data": {
      "text/plain": [
       "dict_keys(['businesses', 'total', 'region'])"
      ]
     },
     "execution_count": 14,
     "metadata": {},
     "output_type": "execute_result"
    }
   ],
   "source": [
    "# use our yelp_api variable's search_query method to perform our API call\n",
    "results = yelp_api.search_query(location=LOCATION,\n",
    "                                term=TERM,\n",
    "                               offset=n_results)\n",
    "results.keys()\n",
    "\n"
   ]
  },
  {
   "cell_type": "code",
   "execution_count": 15,
   "id": "19617227",
   "metadata": {
    "ExecuteTime": {
     "end_time": "2023-09-06T23:46:25.827644Z",
     "start_time": "2023-09-06T23:46:25.820119Z"
    }
   },
   "outputs": [
    {
     "data": {
      "text/plain": [
       "874"
      ]
     },
     "execution_count": 15,
     "metadata": {},
     "output_type": "execute_result"
    }
   ],
   "source": [
    "## How many results total?\n",
    "total_results = results['total']\n",
    "total_results\n",
    "\n"
   ]
  },
  {
   "cell_type": "code",
   "execution_count": 16,
   "id": "d4ce8fc5",
   "metadata": {
    "ExecuteTime": {
     "end_time": "2023-09-06T23:46:45.703343Z",
     "start_time": "2023-09-06T23:46:45.696924Z"
    }
   },
   "outputs": [
    {
     "data": {
      "text/plain": [
       "20"
      ]
     },
     "execution_count": 16,
     "metadata": {},
     "output_type": "execute_result"
    }
   ],
   "source": [
    "## How many did we get the details for?\n",
    "results_per_page = len(results['businesses'])\n",
    "results_per_page\n",
    "\n"
   ]
  },
  {
   "cell_type": "code",
   "execution_count": 17,
   "id": "8463d109",
   "metadata": {
    "ExecuteTime": {
     "end_time": "2023-09-06T23:47:29.646069Z",
     "start_time": "2023-09-06T23:47:29.638329Z"
    }
   },
   "outputs": [
    {
     "data": {
      "text/plain": [
       "44"
      ]
     },
     "execution_count": 17,
     "metadata": {},
     "output_type": "execute_result"
    }
   ],
   "source": [
    "# Import additional packages for controlling our loop\n",
    "import time, math\n",
    "# Use math.ceil to round up for the total number of pages of results.\n",
    "n_pages = math.ceil((results['total']-n_results)/ results_per_page)\n",
    "n_pages\n",
    "\n"
   ]
  },
  {
   "cell_type": "code",
   "execution_count": 18,
   "id": "8965bb5d",
   "metadata": {
    "ExecuteTime": {
     "end_time": "2023-09-06T23:48:26.211038Z",
     "start_time": "2023-09-06T23:48:26.198213Z"
    }
   },
   "outputs": [],
   "source": [
    "# join new results with old list with extend and save to file\n",
    "previous_results.extend(results['businesses'])  \n",
    "with open(JSON_FILE,'w') as f:\n",
    "     json.dump(previous_results,f)\n"
   ]
  },
  {
   "cell_type": "code",
   "execution_count": 19,
   "id": "7c55b563",
   "metadata": {
    "ExecuteTime": {
     "end_time": "2023-09-06T23:48:50.587193Z",
     "start_time": "2023-09-06T23:48:41.384957Z"
    }
   },
   "outputs": [
    {
     "data": {
      "application/vnd.jupyter.widget-view+json": {
       "model_id": "d648c8e47be748709a1089ea3a7ab807",
       "version_major": 2,
       "version_minor": 0
      },
      "text/plain": [
       "  0%|          | 0/44 [00:00<?, ?it/s]"
      ]
     },
     "metadata": {},
     "output_type": "display_data"
    }
   ],
   "source": [
    "from tqdm.notebook import tqdm_notebook\n",
    "import time\n",
    "for i in tqdm_notebook(range(n_pages)):\n",
    "    # adds 200 ms pause\n",
    "    time.sleep(.2) \n"
   ]
  },
  {
   "cell_type": "code",
   "execution_count": 25,
   "id": "48cb2c3a",
   "metadata": {
    "ExecuteTime": {
     "end_time": "2023-09-06T23:53:40.723985Z",
     "start_time": "2023-09-06T23:53:40.712690Z"
    }
   },
   "outputs": [],
   "source": [
    "def create_json_file(JSON_FILE,  delete_if_exists=False):\n",
    "    \n",
    "    ## Check if JSON_FILE exists\n",
    "    file_exists = os.path.isfile(JSON_FILE)\n",
    "    \n",
    "    ## If it DOES exist:\n",
    "    if file_exists == True:\n",
    "        \n",
    "        ## Check if user wants to delete if exists\n",
    "        if delete_if_exists == True:\n",
    "            \n",
    "            print(f\"[!] {JSON_FILE} already exists. Deleting previous file...\")\n",
    "            ## delete file and confirm it no longer exits.\n",
    "            os.remove(JSON_FILE)\n",
    "            ## Recursive call to function after old file deleted\n",
    "            create_json_file(JSON_FILE, delete_if_exists=False)\n",
    "        else:\n",
    "            print(f\"[i] {JSON_FILE} already exists.\")            \n",
    "            \n",
    "    ## If it does NOT exist:\n",
    "    else:\n",
    "        \n",
    "        ## INFORM USER AND SAVE EMPTY LIST\n",
    "        print(f\"[i] {JSON_FILE} not found. Saving empty list to new file.\")\n",
    "        \n",
    "        ## CREATE ANY NEEDED FOLDERS\n",
    "        # Get the Folder Name only\n",
    "        folder = os.path.dirname(JSON_FILE)\n",
    "        \n",
    "        ## If JSON_FILE included a folder:\n",
    "        if len(folder) > 0:\n",
    "            # create the folder\n",
    "            os.makedirs(folder, exist_ok=True)\n",
    "        ## Save empty list to start the json file\n",
    "        with open(JSON_FILE, 'w') as f:\n",
    "            json.dump([], f)\n"
   ]
  },
  {
   "cell_type": "code",
   "execution_count": 26,
   "id": "f3762a70",
   "metadata": {
    "ExecuteTime": {
     "end_time": "2023-09-06T23:54:03.460008Z",
     "start_time": "2023-09-06T23:54:02.872262Z"
    }
   },
   "outputs": [
    {
     "name": "stdout",
     "output_type": "stream",
     "text": [
      "[!] Data/results_in_progress_LAS_sushi.json already exists. Deleting previous file...\n",
      "[i] Data/results_in_progress_LAS_sushi.json not found. Saving empty list to new file.\n",
      "- 0 previous results found.\n"
     ]
    },
    {
     "data": {
      "text/plain": [
       "44"
      ]
     },
     "execution_count": 26,
     "metadata": {},
     "output_type": "execute_result"
    }
   ],
   "source": [
    "## Create a new empty json file (exist the previous if it exists)\n",
    "create_json_file(JSON_FILE, delete_if_exists=True)\n",
    "## Load previous results and use len of results for offset\n",
    "with open(JSON_FILE,'r') as f:\n",
    "    previous_results = json.load(f)\n",
    "    \n",
    "## set offset based on previous results\n",
    "n_results = len(previous_results)\n",
    "print(f'- {n_results} previous results found.')\n",
    "# use our yelp_api variable's search_query method to perform our API call\n",
    "results = yelp_api.search_query(location=LOCATION,\n",
    "                                term=TERM,\n",
    "                               offset=n_results)\n",
    "## How many results total?\n",
    "total_results = results['total']\n",
    "## How many did we get the details for?\n",
    "results_per_page = len(results['businesses'])\n",
    "# Use math.ceil to round up for the total number of pages of results.\n",
    "n_pages = math.ceil((results['total']-n_results)/ results_per_page)\n",
    "n_pages\n",
    "\n"
   ]
  },
  {
   "cell_type": "code",
   "execution_count": 27,
   "id": "8e753ac8",
   "metadata": {
    "ExecuteTime": {
     "end_time": "2023-09-06T23:55:18.526821Z",
     "start_time": "2023-09-06T23:54:25.078615Z"
    }
   },
   "outputs": [
    {
     "data": {
      "application/vnd.jupyter.widget-view+json": {
       "model_id": "1b227c046f124f0580fd7e4125fa954a",
       "version_major": 2,
       "version_minor": 0
      },
      "text/plain": [
       "  0%|          | 0/44 [00:00<?, ?it/s]"
      ]
     },
     "metadata": {},
     "output_type": "display_data"
    }
   ],
   "source": [
    "for i in tqdm_notebook( range(1,n_pages+1)):\n",
    "    \n",
    "    ## Read in results in progress file and check the length\n",
    "    with open(JSON_FILE, 'r') as f:\n",
    "        previous_results = json.load(f)\n",
    "    ## save number of results for to use as offset\n",
    "    n_results = len(previous_results)\n",
    "    \n",
    "    if (n_results + results_per_page) > 1000:\n",
    "        print('Exceeded 1000 api calls. Stopping loop.')\n",
    "        break\n",
    "    \n",
    "    ## use n_results as the OFFSET \n",
    "    results = yelp_api.search_query(location=LOCATION,\n",
    "                                    term=TERM, \n",
    "                                    offset=n_results)\n",
    "    \n",
    "    \n",
    "    \n",
    "    ## append new results and save to file\n",
    "    previous_results.extend(results['businesses'])\n",
    "    \n",
    "    # display(previous_results)\n",
    "    with open(JSON_FILE,'w') as f:\n",
    "        json.dump(previous_results,f)\n",
    "    \n",
    "    time.sleep(.2)\n",
    "\n"
   ]
  },
  {
   "cell_type": "code",
   "execution_count": 28,
   "id": "3833bc41",
   "metadata": {
    "ExecuteTime": {
     "end_time": "2023-09-06T23:55:33.822258Z",
     "start_time": "2023-09-06T23:55:33.775619Z"
    }
   },
   "outputs": [
    {
     "data": {
      "text/html": [
       "<div>\n",
       "<style scoped>\n",
       "    .dataframe tbody tr th:only-of-type {\n",
       "        vertical-align: middle;\n",
       "    }\n",
       "\n",
       "    .dataframe tbody tr th {\n",
       "        vertical-align: top;\n",
       "    }\n",
       "\n",
       "    .dataframe thead th {\n",
       "        text-align: right;\n",
       "    }\n",
       "</style>\n",
       "<table border=\"1\" class=\"dataframe\">\n",
       "  <thead>\n",
       "    <tr style=\"text-align: right;\">\n",
       "      <th></th>\n",
       "      <th>id</th>\n",
       "      <th>alias</th>\n",
       "      <th>name</th>\n",
       "      <th>image_url</th>\n",
       "      <th>is_closed</th>\n",
       "      <th>url</th>\n",
       "      <th>review_count</th>\n",
       "      <th>categories</th>\n",
       "      <th>rating</th>\n",
       "      <th>coordinates</th>\n",
       "      <th>transactions</th>\n",
       "      <th>price</th>\n",
       "      <th>location</th>\n",
       "      <th>phone</th>\n",
       "      <th>display_phone</th>\n",
       "      <th>distance</th>\n",
       "    </tr>\n",
       "  </thead>\n",
       "  <tbody>\n",
       "    <tr>\n",
       "      <th>0</th>\n",
       "      <td>7sb2FYLS2sejZKxRYF9mtg</td>\n",
       "      <td>sakana-las-vegas-3</td>\n",
       "      <td>Sakana</td>\n",
       "      <td>https://s3-media1.fl.yelpcdn.com/bphoto/0OZzJx...</td>\n",
       "      <td>False</td>\n",
       "      <td>https://www.yelp.com/biz/sakana-las-vegas-3?ad...</td>\n",
       "      <td>4448</td>\n",
       "      <td>[{'alias': 'japanese', 'title': 'Japanese'}, {...</td>\n",
       "      <td>4.5</td>\n",
       "      <td>{'latitude': 36.1171507742866, 'longitude': -1...</td>\n",
       "      <td>[delivery, pickup]</td>\n",
       "      <td>$$</td>\n",
       "      <td>{'address1': '3949 S Maryland Pkwy', 'address2...</td>\n",
       "      <td>+17252586684</td>\n",
       "      <td>(725) 258-6684</td>\n",
       "      <td>3216.176763</td>\n",
       "    </tr>\n",
       "    <tr>\n",
       "      <th>1</th>\n",
       "      <td>wtcOC86mlFB_oXAKJa0aOQ</td>\n",
       "      <td>its-sushi-southwest-las-vegas</td>\n",
       "      <td>ITs SUSHI Southwest</td>\n",
       "      <td>https://s3-media2.fl.yelpcdn.com/bphoto/vLXu0k...</td>\n",
       "      <td>False</td>\n",
       "      <td>https://www.yelp.com/biz/its-sushi-southwest-l...</td>\n",
       "      <td>1123</td>\n",
       "      <td>[{'alias': 'sushi', 'title': 'Sushi Bars'}, {'...</td>\n",
       "      <td>4.5</td>\n",
       "      <td>{'latitude': 36.056076, 'longitude': -115.275549}</td>\n",
       "      <td>[]</td>\n",
       "      <td>$$$</td>\n",
       "      <td>{'address1': '8410 West Warm Spring Rd', 'addr...</td>\n",
       "      <td>+17028598453</td>\n",
       "      <td>(702) 859-8453</td>\n",
       "      <td>15977.586993</td>\n",
       "    </tr>\n",
       "    <tr>\n",
       "      <th>2</th>\n",
       "      <td>BjrKNWhtQkedHw8hP_0Bjg</td>\n",
       "      <td>umami-las-vegas-4</td>\n",
       "      <td>Umami</td>\n",
       "      <td>https://s3-media3.fl.yelpcdn.com/bphoto/JjK4he...</td>\n",
       "      <td>False</td>\n",
       "      <td>https://www.yelp.com/biz/umami-las-vegas-4?adj...</td>\n",
       "      <td>2165</td>\n",
       "      <td>[{'alias': 'japanese', 'title': 'Japanese'}, {...</td>\n",
       "      <td>4.5</td>\n",
       "      <td>{'latitude': 36.281173, 'longitude': -115.286215}</td>\n",
       "      <td>[delivery, pickup]</td>\n",
       "      <td>$$</td>\n",
       "      <td>{'address1': '6640 N Durango Dr', 'address2': ...</td>\n",
       "      <td>+17027768627</td>\n",
       "      <td>(702) 776-8627</td>\n",
       "      <td>20149.970007</td>\n",
       "    </tr>\n",
       "    <tr>\n",
       "      <th>3</th>\n",
       "      <td>ghVhlFpNhfBwWDFGSlt2JA</td>\n",
       "      <td>sushi-neko-las-vegas</td>\n",
       "      <td>Sushi Neko</td>\n",
       "      <td>https://s3-media1.fl.yelpcdn.com/bphoto/ZHexhk...</td>\n",
       "      <td>False</td>\n",
       "      <td>https://www.yelp.com/biz/sushi-neko-las-vegas?...</td>\n",
       "      <td>2820</td>\n",
       "      <td>[{'alias': 'sushi', 'title': 'Sushi Bars'}, {'...</td>\n",
       "      <td>4.5</td>\n",
       "      <td>{'latitude': 36.1255080044462, 'longitude': -1...</td>\n",
       "      <td>[delivery]</td>\n",
       "      <td>$$</td>\n",
       "      <td>{'address1': '5115 W Spring Mountain Rd', 'add...</td>\n",
       "      <td>+17022474241</td>\n",
       "      <td>(702) 247-4241</td>\n",
       "      <td>7109.858336</td>\n",
       "    </tr>\n",
       "    <tr>\n",
       "      <th>4</th>\n",
       "      <td>myFPRndhdZMKdfMZyksyxQ</td>\n",
       "      <td>its-sushi-spring-mountain-las-vegas-3</td>\n",
       "      <td>ITs SUSHI Spring Mountain</td>\n",
       "      <td>https://s3-media2.fl.yelpcdn.com/bphoto/5OQj-6...</td>\n",
       "      <td>False</td>\n",
       "      <td>https://www.yelp.com/biz/its-sushi-spring-moun...</td>\n",
       "      <td>1875</td>\n",
       "      <td>[{'alias': 'japanese', 'title': 'Japanese'}, {...</td>\n",
       "      <td>4.5</td>\n",
       "      <td>{'latitude': 36.12604, 'longitude': -115.20702}</td>\n",
       "      <td>[]</td>\n",
       "      <td>$$</td>\n",
       "      <td>{'address1': '4815 Spring Mountain Rd', 'addre...</td>\n",
       "      <td>+17022471320</td>\n",
       "      <td>(702) 247-1320</td>\n",
       "      <td>6693.659586</td>\n",
       "    </tr>\n",
       "  </tbody>\n",
       "</table>\n",
       "</div>"
      ],
      "text/plain": [
       "                       id                                  alias  \\\n",
       "0  7sb2FYLS2sejZKxRYF9mtg                     sakana-las-vegas-3   \n",
       "1  wtcOC86mlFB_oXAKJa0aOQ          its-sushi-southwest-las-vegas   \n",
       "2  BjrKNWhtQkedHw8hP_0Bjg                      umami-las-vegas-4   \n",
       "3  ghVhlFpNhfBwWDFGSlt2JA                   sushi-neko-las-vegas   \n",
       "4  myFPRndhdZMKdfMZyksyxQ  its-sushi-spring-mountain-las-vegas-3   \n",
       "\n",
       "                        name  \\\n",
       "0                     Sakana   \n",
       "1        ITs SUSHI Southwest   \n",
       "2                      Umami   \n",
       "3                 Sushi Neko   \n",
       "4  ITs SUSHI Spring Mountain   \n",
       "\n",
       "                                           image_url  is_closed  \\\n",
       "0  https://s3-media1.fl.yelpcdn.com/bphoto/0OZzJx...      False   \n",
       "1  https://s3-media2.fl.yelpcdn.com/bphoto/vLXu0k...      False   \n",
       "2  https://s3-media3.fl.yelpcdn.com/bphoto/JjK4he...      False   \n",
       "3  https://s3-media1.fl.yelpcdn.com/bphoto/ZHexhk...      False   \n",
       "4  https://s3-media2.fl.yelpcdn.com/bphoto/5OQj-6...      False   \n",
       "\n",
       "                                                 url  review_count  \\\n",
       "0  https://www.yelp.com/biz/sakana-las-vegas-3?ad...          4448   \n",
       "1  https://www.yelp.com/biz/its-sushi-southwest-l...          1123   \n",
       "2  https://www.yelp.com/biz/umami-las-vegas-4?adj...          2165   \n",
       "3  https://www.yelp.com/biz/sushi-neko-las-vegas?...          2820   \n",
       "4  https://www.yelp.com/biz/its-sushi-spring-moun...          1875   \n",
       "\n",
       "                                          categories  rating  \\\n",
       "0  [{'alias': 'japanese', 'title': 'Japanese'}, {...     4.5   \n",
       "1  [{'alias': 'sushi', 'title': 'Sushi Bars'}, {'...     4.5   \n",
       "2  [{'alias': 'japanese', 'title': 'Japanese'}, {...     4.5   \n",
       "3  [{'alias': 'sushi', 'title': 'Sushi Bars'}, {'...     4.5   \n",
       "4  [{'alias': 'japanese', 'title': 'Japanese'}, {...     4.5   \n",
       "\n",
       "                                         coordinates        transactions  \\\n",
       "0  {'latitude': 36.1171507742866, 'longitude': -1...  [delivery, pickup]   \n",
       "1  {'latitude': 36.056076, 'longitude': -115.275549}                  []   \n",
       "2  {'latitude': 36.281173, 'longitude': -115.286215}  [delivery, pickup]   \n",
       "3  {'latitude': 36.1255080044462, 'longitude': -1...          [delivery]   \n",
       "4    {'latitude': 36.12604, 'longitude': -115.20702}                  []   \n",
       "\n",
       "  price                                           location         phone  \\\n",
       "0    $$  {'address1': '3949 S Maryland Pkwy', 'address2...  +17252586684   \n",
       "1   $$$  {'address1': '8410 West Warm Spring Rd', 'addr...  +17028598453   \n",
       "2    $$  {'address1': '6640 N Durango Dr', 'address2': ...  +17027768627   \n",
       "3    $$  {'address1': '5115 W Spring Mountain Rd', 'add...  +17022474241   \n",
       "4    $$  {'address1': '4815 Spring Mountain Rd', 'addre...  +17022471320   \n",
       "\n",
       "    display_phone      distance  \n",
       "0  (725) 258-6684   3216.176763  \n",
       "1  (702) 859-8453  15977.586993  \n",
       "2  (702) 776-8627  20149.970007  \n",
       "3  (702) 247-4241   7109.858336  \n",
       "4  (702) 247-1320   6693.659586  "
      ]
     },
     "metadata": {},
     "output_type": "display_data"
    },
    {
     "data": {
      "text/html": [
       "<div>\n",
       "<style scoped>\n",
       "    .dataframe tbody tr th:only-of-type {\n",
       "        vertical-align: middle;\n",
       "    }\n",
       "\n",
       "    .dataframe tbody tr th {\n",
       "        vertical-align: top;\n",
       "    }\n",
       "\n",
       "    .dataframe thead th {\n",
       "        text-align: right;\n",
       "    }\n",
       "</style>\n",
       "<table border=\"1\" class=\"dataframe\">\n",
       "  <thead>\n",
       "    <tr style=\"text-align: right;\">\n",
       "      <th></th>\n",
       "      <th>id</th>\n",
       "      <th>alias</th>\n",
       "      <th>name</th>\n",
       "      <th>image_url</th>\n",
       "      <th>is_closed</th>\n",
       "      <th>url</th>\n",
       "      <th>review_count</th>\n",
       "      <th>categories</th>\n",
       "      <th>rating</th>\n",
       "      <th>coordinates</th>\n",
       "      <th>transactions</th>\n",
       "      <th>price</th>\n",
       "      <th>location</th>\n",
       "      <th>phone</th>\n",
       "      <th>display_phone</th>\n",
       "      <th>distance</th>\n",
       "    </tr>\n",
       "  </thead>\n",
       "  <tbody>\n",
       "    <tr>\n",
       "      <th>869</th>\n",
       "      <td>CCVh8YKdN3c-WgqEbzya3A</td>\n",
       "      <td>market-cafe-vdara-las-vegas-3</td>\n",
       "      <td>Market Cafe Vdara</td>\n",
       "      <td>https://s3-media3.fl.yelpcdn.com/bphoto/dB8ert...</td>\n",
       "      <td>False</td>\n",
       "      <td>https://www.yelp.com/biz/market-cafe-vdara-las...</td>\n",
       "      <td>263</td>\n",
       "      <td>[{'alias': 'cafes', 'title': 'Cafes'}, {'alias...</td>\n",
       "      <td>3.0</td>\n",
       "      <td>{'latitude': 36.10939091315763, 'longitude': -...</td>\n",
       "      <td>[]</td>\n",
       "      <td>$$</td>\n",
       "      <td>{'address1': '2600 W Harmon Ave', 'address2': ...</td>\n",
       "      <td>+17025902424</td>\n",
       "      <td>(702) 590-2424</td>\n",
       "      <td>5496.707815</td>\n",
       "    </tr>\n",
       "    <tr>\n",
       "      <th>870</th>\n",
       "      <td>r6jbUGiyoN05mZ13apQGgw</td>\n",
       "      <td>mamas-pizza-and-bistro-las-vegas</td>\n",
       "      <td>Mama's Pizza &amp; Bistro</td>\n",
       "      <td>https://s3-media2.fl.yelpcdn.com/bphoto/97Y5ga...</td>\n",
       "      <td>False</td>\n",
       "      <td>https://www.yelp.com/biz/mamas-pizza-and-bistr...</td>\n",
       "      <td>334</td>\n",
       "      <td>[{'alias': 'italian', 'title': 'Italian'}, {'a...</td>\n",
       "      <td>3.5</td>\n",
       "      <td>{'latitude': 36.01068985422552, 'longitude': -...</td>\n",
       "      <td>[delivery, pickup]</td>\n",
       "      <td>$$</td>\n",
       "      <td>{'address1': '9845 S Maryland Pkwy', 'address2...</td>\n",
       "      <td>+17028376262</td>\n",
       "      <td>(702) 837-6262</td>\n",
       "      <td>15050.419358</td>\n",
       "    </tr>\n",
       "    <tr>\n",
       "      <th>871</th>\n",
       "      <td>18sAHGZz-WCAFqmMNqscVw</td>\n",
       "      <td>jack-in-the-box-henderson-2</td>\n",
       "      <td>Jack in the Box</td>\n",
       "      <td>https://s3-media1.fl.yelpcdn.com/bphoto/fMHxzc...</td>\n",
       "      <td>False</td>\n",
       "      <td>https://www.yelp.com/biz/jack-in-the-box-hende...</td>\n",
       "      <td>90</td>\n",
       "      <td>[{'alias': 'burgers', 'title': 'Burgers'}, {'a...</td>\n",
       "      <td>1.5</td>\n",
       "      <td>{'latitude': 36.0308835, 'longitude': -115.029...</td>\n",
       "      <td>[delivery]</td>\n",
       "      <td>$</td>\n",
       "      <td>{'address1': '5 S Gibson Rd', 'address2': '', ...</td>\n",
       "      <td>+17025586506</td>\n",
       "      <td>(702) 558-6506</td>\n",
       "      <td>15999.879184</td>\n",
       "    </tr>\n",
       "    <tr>\n",
       "      <th>872</th>\n",
       "      <td>4l1cmNrXBOLVUJR29MDp3A</td>\n",
       "      <td>subway-las-vegas-207</td>\n",
       "      <td>Subway</td>\n",
       "      <td>https://s3-media4.fl.yelpcdn.com/bphoto/gQFc06...</td>\n",
       "      <td>False</td>\n",
       "      <td>https://www.yelp.com/biz/subway-las-vegas-207?...</td>\n",
       "      <td>57</td>\n",
       "      <td>[{'alias': 'sandwiches', 'title': 'Sandwiches'...</td>\n",
       "      <td>2.5</td>\n",
       "      <td>{'latitude': 36.2911194017872, 'longitude': -1...</td>\n",
       "      <td>[delivery, pickup]</td>\n",
       "      <td>$</td>\n",
       "      <td>{'address1': '7171 N Hualapai Way', 'address2'...</td>\n",
       "      <td>+17026294952</td>\n",
       "      <td>(702) 629-4952</td>\n",
       "      <td>22752.738585</td>\n",
       "    </tr>\n",
       "    <tr>\n",
       "      <th>873</th>\n",
       "      <td>3WipOV5JlbCEO_o0tV49yA</td>\n",
       "      <td>buffalo-wild-wings-henderson-2</td>\n",
       "      <td>Buffalo Wild Wings</td>\n",
       "      <td>https://s3-media3.fl.yelpcdn.com/bphoto/tijJZU...</td>\n",
       "      <td>False</td>\n",
       "      <td>https://www.yelp.com/biz/buffalo-wild-wings-he...</td>\n",
       "      <td>477</td>\n",
       "      <td>[{'alias': 'sportsbars', 'title': 'Sports Bars...</td>\n",
       "      <td>2.5</td>\n",
       "      <td>{'latitude': 36.0032055, 'longitude': -115.111...</td>\n",
       "      <td>[delivery, pickup]</td>\n",
       "      <td>$$</td>\n",
       "      <td>{'address1': '10271 S Eastern Ave', 'address2'...</td>\n",
       "      <td>+17024921880</td>\n",
       "      <td>(702) 492-1880</td>\n",
       "      <td>16049.847825</td>\n",
       "    </tr>\n",
       "  </tbody>\n",
       "</table>\n",
       "</div>"
      ],
      "text/plain": [
       "                         id                             alias  \\\n",
       "869  CCVh8YKdN3c-WgqEbzya3A     market-cafe-vdara-las-vegas-3   \n",
       "870  r6jbUGiyoN05mZ13apQGgw  mamas-pizza-and-bistro-las-vegas   \n",
       "871  18sAHGZz-WCAFqmMNqscVw       jack-in-the-box-henderson-2   \n",
       "872  4l1cmNrXBOLVUJR29MDp3A              subway-las-vegas-207   \n",
       "873  3WipOV5JlbCEO_o0tV49yA    buffalo-wild-wings-henderson-2   \n",
       "\n",
       "                      name                                          image_url  \\\n",
       "869      Market Cafe Vdara  https://s3-media3.fl.yelpcdn.com/bphoto/dB8ert...   \n",
       "870  Mama's Pizza & Bistro  https://s3-media2.fl.yelpcdn.com/bphoto/97Y5ga...   \n",
       "871        Jack in the Box  https://s3-media1.fl.yelpcdn.com/bphoto/fMHxzc...   \n",
       "872                 Subway  https://s3-media4.fl.yelpcdn.com/bphoto/gQFc06...   \n",
       "873     Buffalo Wild Wings  https://s3-media3.fl.yelpcdn.com/bphoto/tijJZU...   \n",
       "\n",
       "     is_closed                                                url  \\\n",
       "869      False  https://www.yelp.com/biz/market-cafe-vdara-las...   \n",
       "870      False  https://www.yelp.com/biz/mamas-pizza-and-bistr...   \n",
       "871      False  https://www.yelp.com/biz/jack-in-the-box-hende...   \n",
       "872      False  https://www.yelp.com/biz/subway-las-vegas-207?...   \n",
       "873      False  https://www.yelp.com/biz/buffalo-wild-wings-he...   \n",
       "\n",
       "     review_count                                         categories  rating  \\\n",
       "869           263  [{'alias': 'cafes', 'title': 'Cafes'}, {'alias...     3.0   \n",
       "870           334  [{'alias': 'italian', 'title': 'Italian'}, {'a...     3.5   \n",
       "871            90  [{'alias': 'burgers', 'title': 'Burgers'}, {'a...     1.5   \n",
       "872            57  [{'alias': 'sandwiches', 'title': 'Sandwiches'...     2.5   \n",
       "873           477  [{'alias': 'sportsbars', 'title': 'Sports Bars...     2.5   \n",
       "\n",
       "                                           coordinates        transactions  \\\n",
       "869  {'latitude': 36.10939091315763, 'longitude': -...                  []   \n",
       "870  {'latitude': 36.01068985422552, 'longitude': -...  [delivery, pickup]   \n",
       "871  {'latitude': 36.0308835, 'longitude': -115.029...          [delivery]   \n",
       "872  {'latitude': 36.2911194017872, 'longitude': -1...  [delivery, pickup]   \n",
       "873  {'latitude': 36.0032055, 'longitude': -115.111...  [delivery, pickup]   \n",
       "\n",
       "    price                                           location         phone  \\\n",
       "869    $$  {'address1': '2600 W Harmon Ave', 'address2': ...  +17025902424   \n",
       "870    $$  {'address1': '9845 S Maryland Pkwy', 'address2...  +17028376262   \n",
       "871     $  {'address1': '5 S Gibson Rd', 'address2': '', ...  +17025586506   \n",
       "872     $  {'address1': '7171 N Hualapai Way', 'address2'...  +17026294952   \n",
       "873    $$  {'address1': '10271 S Eastern Ave', 'address2'...  +17024921880   \n",
       "\n",
       "      display_phone      distance  \n",
       "869  (702) 590-2424   5496.707815  \n",
       "870  (702) 837-6262  15050.419358  \n",
       "871  (702) 558-6506  15999.879184  \n",
       "872  (702) 629-4952  22752.738585  \n",
       "873  (702) 492-1880  16049.847825  "
      ]
     },
     "metadata": {},
     "output_type": "display_data"
    }
   ],
   "source": [
    "# load final results\n",
    "final_df = pd.read_json(JSON_FILE)\n",
    "display(final_df.head(), final_df.tail())\n"
   ]
  }
 ],
 "metadata": {
  "hide_input": false,
  "kernelspec": {
   "display_name": "Python (dojo-env)",
   "language": "python",
   "name": "dojo-env"
  },
  "language_info": {
   "codemirror_mode": {
    "name": "ipython",
    "version": 3
   },
   "file_extension": ".py",
   "mimetype": "text/x-python",
   "name": "python",
   "nbconvert_exporter": "python",
   "pygments_lexer": "ipython3",
   "version": "3.9.15"
  },
  "nbTranslate": {
   "displayLangs": [
    "*"
   ],
   "hotkey": "alt-t",
   "langInMainMenu": true,
   "sourceLang": "en",
   "targetLang": "fr",
   "useGoogleTranslate": true
  },
  "toc": {
   "base_numbering": 1,
   "nav_menu": {},
   "number_sections": true,
   "sideBar": true,
   "skip_h1_title": false,
   "title_cell": "Table of Contents",
   "title_sidebar": "Contents",
   "toc_cell": false,
   "toc_position": {},
   "toc_section_display": true,
   "toc_window_display": false
  }
 },
 "nbformat": 4,
 "nbformat_minor": 5
}
